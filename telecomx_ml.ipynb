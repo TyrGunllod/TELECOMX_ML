{
  "nbformat": 4,
  "nbformat_minor": 0,
  "metadata": {
    "colab": {
      "provenance": [],
      "collapsed_sections": [
        "TyQeOGp71WYH",
        "kyb6FFC61uiM"
      ],
      "authorship_tag": "ABX9TyNRvxov/xfaM1I8ePBH7LZ2",
      "include_colab_link": true
    },
    "kernelspec": {
      "name": "python3",
      "display_name": "Python 3"
    },
    "language_info": {
      "name": "python"
    }
  },
  "cells": [
    {
      "cell_type": "markdown",
      "metadata": {
        "id": "view-in-github",
        "colab_type": "text"
      },
      "source": [
        "<a href=\"https://colab.research.google.com/github/TyrGunllod/TELECOMX_ML/blob/main/telecomx_ml.ipynb\" target=\"_parent\"><img src=\"https://colab.research.google.com/assets/colab-badge.svg\" alt=\"Open In Colab\"/></a>"
      ]
    },
    {
      "cell_type": "markdown",
      "source": [
        "# Importação de bibliotecas"
      ],
      "metadata": {
        "id": "TyQeOGp71WYH"
      }
    },
    {
      "cell_type": "code",
      "execution_count": null,
      "metadata": {
        "id": "RdyAZXbvtv72"
      },
      "outputs": [],
      "source": []
    },
    {
      "cell_type": "markdown",
      "source": [
        "# Extração do arquivo tratado"
      ],
      "metadata": {
        "id": "kyb6FFC61uiM"
      }
    },
    {
      "cell_type": "code",
      "source": [],
      "metadata": {
        "id": "Wtt2zoR_11qk"
      },
      "execution_count": null,
      "outputs": []
    },
    {
      "cell_type": "markdown",
      "source": [
        "# Encoding"
      ],
      "metadata": {
        "id": "sZDnyQ5q2NPs"
      }
    },
    {
      "cell_type": "code",
      "source": [],
      "metadata": {
        "id": "2N-ASjwF2QA2"
      },
      "execution_count": null,
      "outputs": []
    },
    {
      "cell_type": "markdown",
      "source": [
        "# Verificação da Proporção de Evasão"
      ],
      "metadata": {
        "id": "O14fddBn2SBb"
      }
    },
    {
      "cell_type": "code",
      "source": [],
      "metadata": {
        "id": "pSBic4sY2UZc"
      },
      "execution_count": null,
      "outputs": []
    },
    {
      "cell_type": "markdown",
      "source": [
        "# Balanceamento de Classes (opcional )"
      ],
      "metadata": {
        "id": "6x0rTQ-x2iG8"
      }
    },
    {
      "cell_type": "code",
      "source": [],
      "metadata": {
        "id": "4JitbyGA2sS1"
      },
      "execution_count": null,
      "outputs": []
    },
    {
      "cell_type": "markdown",
      "source": [],
      "metadata": {
        "id": "gdPHwq_E2s8D"
      }
    }
  ]
}